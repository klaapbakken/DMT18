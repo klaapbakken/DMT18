{
 "cells": [
  {
   "cell_type": "code",
   "execution_count": 152,
   "metadata": {
    "collapsed": true
   },
   "outputs": [],
   "source": [
    "import numpy as np\n",
    "import pandas as pd"
   ]
  },
  {
   "cell_type": "markdown",
   "metadata": {},
   "source": [
    "# Initial exploration"
   ]
  },
  {
   "cell_type": "code",
   "execution_count": 153,
   "metadata": {
    "collapsed": false
   },
   "outputs": [
    {
     "data": {
      "text/html": [
       "<div>\n",
       "<style>\n",
       "    .dataframe thead tr:only-child th {\n",
       "        text-align: right;\n",
       "    }\n",
       "\n",
       "    .dataframe thead th {\n",
       "        text-align: left;\n",
       "    }\n",
       "\n",
       "    .dataframe tbody tr th {\n",
       "        vertical-align: top;\n",
       "    }\n",
       "</style>\n",
       "<table border=\"1\" class=\"dataframe\">\n",
       "  <thead>\n",
       "    <tr style=\"text-align: right;\">\n",
       "      <th></th>\n",
       "      <th>Unnamed: 0</th>\n",
       "      <th>id</th>\n",
       "      <th>time</th>\n",
       "      <th>variable</th>\n",
       "      <th>value</th>\n",
       "    </tr>\n",
       "  </thead>\n",
       "  <tbody>\n",
       "    <tr>\n",
       "      <th>0</th>\n",
       "      <td>1</td>\n",
       "      <td>AS14.01</td>\n",
       "      <td>2014-02-26 13:00:00.000</td>\n",
       "      <td>mood</td>\n",
       "      <td>6.0</td>\n",
       "    </tr>\n",
       "    <tr>\n",
       "      <th>1</th>\n",
       "      <td>2</td>\n",
       "      <td>AS14.01</td>\n",
       "      <td>2014-02-26 15:00:00.000</td>\n",
       "      <td>mood</td>\n",
       "      <td>6.0</td>\n",
       "    </tr>\n",
       "    <tr>\n",
       "      <th>2</th>\n",
       "      <td>3</td>\n",
       "      <td>AS14.01</td>\n",
       "      <td>2014-02-26 18:00:00.000</td>\n",
       "      <td>mood</td>\n",
       "      <td>6.0</td>\n",
       "    </tr>\n",
       "    <tr>\n",
       "      <th>3</th>\n",
       "      <td>4</td>\n",
       "      <td>AS14.01</td>\n",
       "      <td>2014-02-26 21:00:00.000</td>\n",
       "      <td>mood</td>\n",
       "      <td>7.0</td>\n",
       "    </tr>\n",
       "    <tr>\n",
       "      <th>4</th>\n",
       "      <td>5</td>\n",
       "      <td>AS14.01</td>\n",
       "      <td>2014-02-27 09:00:00.000</td>\n",
       "      <td>mood</td>\n",
       "      <td>6.0</td>\n",
       "    </tr>\n",
       "  </tbody>\n",
       "</table>\n",
       "</div>"
      ],
      "text/plain": [
       "   Unnamed: 0       id                     time variable  value\n",
       "0           1  AS14.01  2014-02-26 13:00:00.000     mood    6.0\n",
       "1           2  AS14.01  2014-02-26 15:00:00.000     mood    6.0\n",
       "2           3  AS14.01  2014-02-26 18:00:00.000     mood    6.0\n",
       "3           4  AS14.01  2014-02-26 21:00:00.000     mood    7.0\n",
       "4           5  AS14.01  2014-02-27 09:00:00.000     mood    6.0"
      ]
     },
     "execution_count": 153,
     "metadata": {},
     "output_type": "execute_result"
    }
   ],
   "source": [
    "df = pd.read_csv(\"./Data/dataset_mood_smartphone.csv\")\n",
    "df = df.dropna(axis=0, how='any')\n",
    "df.head()"
   ]
  },
  {
   "cell_type": "code",
   "execution_count": 154,
   "metadata": {
    "collapsed": true
   },
   "outputs": [],
   "source": [
    "variables = np.unique(df.variable.values)\n",
    "p = variables.shape[0]\n",
    "\n",
    "time_points = np.unique(df.time.values)\n",
    "T = time_points.shape[0]\n",
    "\n",
    "n_response = np.sum([df.variable.values == 'mood'])\n",
    "\n",
    "ids = np.unique(df.id.values)\n",
    "n_ids = ids.shape[0]\n",
    "\n",
    "id_df_list = [df[df.id == ids[i]] for i in range(n_ids)]\n",
    "\n",
    "mood_timestamps = df.time[df.variable == 'mood']\n"
   ]
  },
  {
   "cell_type": "code",
   "execution_count": 155,
   "metadata": {
    "collapsed": false
   },
   "outputs": [
    {
     "name": "stdout",
     "output_type": "stream",
     "text": [
      "19 336907 5641 27\n"
     ]
    }
   ],
   "source": [
    "print(p, T, n_response, n_ids)"
   ]
  },
  {
   "cell_type": "code",
   "execution_count": 157,
   "metadata": {
    "collapsed": true
   },
   "outputs": [],
   "source": [
    "timestamp = mood_timestamps[125]\n",
    "t1 = mood_timestamps[1]\n",
    "t2 = mood_timestamps[2]"
   ]
  },
  {
   "cell_type": "code",
   "execution_count": 158,
   "metadata": {
    "collapsed": false
   },
   "outputs": [
    {
     "name": "stdout",
     "output_type": "stream",
     "text": [
      "['2014-02-26 13:00:00.000' '2014-02-26 15:00:00.000'\n",
      " '2014-02-26 18:00:00.000' ..., '2014-05-30 19:00:00.000'\n",
      " '2014-05-30 20:00:00.000' '2014-05-31 12:00:00.000']\n",
      "[234593 234594 234595 ..., 308866 308867 308868]\n",
      "['activity', 'appCat.builtin', 'appCat.communication', 'appCat.entertainment', 'appCat.finance', 'appCat.game', 'appCat.office', 'appCat.other', 'appCat.social', 'appCat.travel', 'appCat.unknown', 'appCat.utilities', 'appCat.weather', 'call', 'circumplex.arousal', 'circumplex.valence', 'mood', 'screen', 'sms']\n",
      "['appCat.builtin' 'appCat.communication' 'appCat.entertainment'\n",
      " 'appCat.finance' 'appCat.game' 'appCat.office' 'appCat.other'\n",
      " 'appCat.social' 'appCat.travel' 'appCat.unknown' 'appCat.utilities'\n",
      " 'appCat.weather' 'call' 'mood' 'screen' 'sms']\n"
     ]
    }
   ],
   "source": [
    "response_times = df.time[df.variable == 'mood'].values\n",
    "print(response_times)\n",
    "\n",
    "mood_times = df.time[df.variable == 'mood'].values\n",
    "mood_measurements = df.value[df.variable == 'mood'].values\n",
    "measurement_types = np.unique(df.variable[df.variable != ' mood'].values).tolist()\n",
    "measurement_df = df[df.variable != 'mood']\n",
    "measurement_times = measurement_df.time.values\n",
    "X = np.zeros((len(measurement_types), mood_measurements.shape[0]))\n",
    "i = 0\n",
    "\n",
    "print(np.nonzero(np.isin(df.variable.values, measurement_types[2]))[0])\n",
    "print(measurement_types)\n",
    "\n",
    "mean_types = np.array(['activity', 'circumplex.valence', 'circumplex.arousal'])\n",
    "sum_types = np.array(list(filter(lambda x: x not in mean_types, measurement_types)))\n",
    "\n",
    "print(sum_types)\n",
    "\n",
    "\n",
    "\n",
    "\n",
    "\n"
   ]
  },
  {
   "cell_type": "code",
   "execution_count": 176,
   "metadata": {
    "collapsed": true
   },
   "outputs": [],
   "source": [
    "def time_earlier(t1, t2):\n",
    "    year1 = int(t1[0:4])\n",
    "    year2 = int(t2[0:4])\n",
    "    if year1 == year2:\n",
    "        month1 = int(t1[5:7])\n",
    "        month2 = int(t2[5:7])\n",
    "        if month1 == month2:\n",
    "            day1 = int(t1[8:10])\n",
    "            day2 = int(t2[8:10])\n",
    "            if day1 == day2:\n",
    "                hour1 = int(t1[11:13])\n",
    "                hour2 = int(t2[11:13])\n",
    "                if hour1 == hour2:\n",
    "                    min1 = int(t1[14:16])\n",
    "                    min2 = int(t2[14:16])\n",
    "                    if min1 == min2:\n",
    "                        sec1 = int(t1[17:19])\n",
    "                        sec2 = int(t2[17:19])\n",
    "                        if sec1 == sec2:\n",
    "                            subsec1 = int(t1[20:23])\n",
    "                            subsec2 = int(t2[20:23])\n",
    "                            return subsec1 <= subsec2\n",
    "                        else:\n",
    "                            return sec1 < sec2\n",
    "                    else: \n",
    "                        return min1 < min2\n",
    "                    \n",
    "                else:\n",
    "                    return hour1 < hour2\n",
    "                    \n",
    "            else:\n",
    "                return day1 < day2\n",
    "        else:\n",
    "            return month1 < month2\n",
    "    else:\n",
    "        return year1 < year2"
   ]
  },
  {
   "cell_type": "markdown",
   "metadata": {},
   "source": [
    "# Sum between recorded respones"
   ]
  },
  {
   "cell_type": "code",
   "execution_count": 177,
   "metadata": {
    "collapsed": true
   },
   "outputs": [],
   "source": [
    "def create_time_series(df):\n",
    "    mood_times = df.time[df.variable == 'mood'].values[1::]\n",
    "    mood_values = df.value[df.variable == 'mood'].values[1::]\n",
    "    n = mood_values.shape[0]\n",
    "    \n",
    "    measurement_types = np.unique(df.variable[df.variable != ' mood'].values).tolist()\n",
    "    measurement_values = df.value.values[df.variable != 'mood']\n",
    "    measurement_times = df.time.values[df.variable != 'mood']\n",
    "      \n",
    "    mean_types = np.array(['activity', 'circumplex.valence', 'circumplex.arousal'])\n",
    "    sum_types = np.array(list(filter(lambda x: x not in mean_types, measurement_types)))\n",
    "    \n",
    "    X = np.zeros((len(measurement_types), n))\n",
    "    indices_to_drop = np.array([])\n",
    "    for j in mood_times:\n",
    "        earlier_time_indices = np.array([k for k in range(n) if time_earlier(measurement_times[k], j)])\n",
    "        earlier_types = measurement_types[earlier_time_indices]                               \n",
    "        for m in measurement_types:\n",
    "            i = 0\n",
    "            earlier_measurement_indices = np.nonzero(np.isin(earlier_types, m))[0]\n",
    "            if m in sum_types:\n",
    "                #Sum all measurement types that should be added up\n",
    "                X[i, j] = np.sum(measurement_values[earlier_measurement_indices])\n",
    "            elif m in mean_types:\n",
    "                X[i, j] = np.mean(measurement_values[earlier_measurement_indices])\n",
    "            i += 1\n",
    "            np.concatenate(indices_to_drop, earlier_measurement_indices)\n",
    "        measurements = np.delete(measurements, indices_to_drop)\n",
    "        \n",
    "    y = mood_values\n",
    "    \n",
    "    return X, y"
   ]
  },
  {
   "cell_type": "code",
   "execution_count": 178,
   "metadata": {
    "collapsed": false
   },
   "outputs": [
    {
     "ename": "TypeError",
     "evalue": "only integer scalar arrays can be converted to a scalar index",
     "output_type": "error",
     "traceback": [
      "\u001b[1;31m---------------------------------------------------------------------------\u001b[0m",
      "\u001b[1;31mTypeError\u001b[0m                                 Traceback (most recent call last)",
      "\u001b[1;32m<ipython-input-178-b6137fc09fac>\u001b[0m in \u001b[0;36m<module>\u001b[1;34m()\u001b[0m\n\u001b[1;32m----> 1\u001b[1;33m \u001b[0mX\u001b[0m\u001b[1;33m,\u001b[0m \u001b[0my\u001b[0m \u001b[1;33m=\u001b[0m \u001b[0mcreate_time_series\u001b[0m\u001b[1;33m(\u001b[0m\u001b[0mdf\u001b[0m\u001b[1;33m[\u001b[0m\u001b[0mdf\u001b[0m\u001b[1;33m.\u001b[0m\u001b[0mid\u001b[0m \u001b[1;33m==\u001b[0m \u001b[0mids\u001b[0m\u001b[1;33m[\u001b[0m\u001b[1;36m0\u001b[0m\u001b[1;33m]\u001b[0m\u001b[1;33m]\u001b[0m\u001b[1;33m)\u001b[0m\u001b[1;33m\u001b[0m\u001b[0m\n\u001b[0m",
      "\u001b[1;32m<ipython-input-177-10d318d3c050>\u001b[0m in \u001b[0;36mcreate_time_series\u001b[1;34m(df)\u001b[0m\n\u001b[0;32m     15\u001b[0m     \u001b[1;32mfor\u001b[0m \u001b[0mj\u001b[0m \u001b[1;32min\u001b[0m \u001b[0mmood_times\u001b[0m\u001b[1;33m:\u001b[0m\u001b[1;33m\u001b[0m\u001b[0m\n\u001b[0;32m     16\u001b[0m         \u001b[0mearlier_time_indices\u001b[0m \u001b[1;33m=\u001b[0m \u001b[0mnp\u001b[0m\u001b[1;33m.\u001b[0m\u001b[0marray\u001b[0m\u001b[1;33m(\u001b[0m\u001b[1;33m[\u001b[0m\u001b[0mk\u001b[0m \u001b[1;32mfor\u001b[0m \u001b[0mk\u001b[0m \u001b[1;32min\u001b[0m \u001b[0mrange\u001b[0m\u001b[1;33m(\u001b[0m\u001b[0mn\u001b[0m\u001b[1;33m)\u001b[0m \u001b[1;32mif\u001b[0m \u001b[0mtime_earlier\u001b[0m\u001b[1;33m(\u001b[0m\u001b[0mmeasurement_times\u001b[0m\u001b[1;33m[\u001b[0m\u001b[0mk\u001b[0m\u001b[1;33m]\u001b[0m\u001b[1;33m,\u001b[0m \u001b[0mj\u001b[0m\u001b[1;33m)\u001b[0m\u001b[1;33m]\u001b[0m\u001b[1;33m)\u001b[0m\u001b[1;33m\u001b[0m\u001b[0m\n\u001b[1;32m---> 17\u001b[1;33m         \u001b[0mearlier_types\u001b[0m \u001b[1;33m=\u001b[0m \u001b[0mmeasurement_types\u001b[0m\u001b[1;33m[\u001b[0m\u001b[0mearlier_time_indices\u001b[0m\u001b[1;33m]\u001b[0m\u001b[1;33m\u001b[0m\u001b[0m\n\u001b[0m\u001b[0;32m     18\u001b[0m         \u001b[1;32mfor\u001b[0m \u001b[0mm\u001b[0m \u001b[1;32min\u001b[0m \u001b[0mmeasurement_types\u001b[0m\u001b[1;33m:\u001b[0m\u001b[1;33m\u001b[0m\u001b[0m\n\u001b[0;32m     19\u001b[0m             \u001b[0mi\u001b[0m \u001b[1;33m=\u001b[0m \u001b[1;36m0\u001b[0m\u001b[1;33m\u001b[0m\u001b[0m\n",
      "\u001b[1;31mTypeError\u001b[0m: only integer scalar arrays can be converted to a scalar index"
     ]
    }
   ],
   "source": [
    "X, y = create_time_series(df[df.id == ids[0]])"
   ]
  },
  {
   "cell_type": "code",
   "execution_count": null,
   "metadata": {
    "collapsed": true
   },
   "outputs": [],
   "source": []
  },
  {
   "cell_type": "markdown",
   "metadata": {},
   "source": [
    "# Recurrent Neural Network"
   ]
  },
  {
   "cell_type": "code",
   "execution_count": null,
   "metadata": {
    "collapsed": true
   },
   "outputs": [],
   "source": []
  },
  {
   "cell_type": "markdown",
   "metadata": {},
   "source": [
    "# Additional code"
   ]
  },
  {
   "cell_type": "code",
   "execution_count": null,
   "metadata": {
    "collapsed": true
   },
   "outputs": [],
   "source": [
    "def df_timesplit(df):\n",
    "    ret_df = df\n",
    "    ret_df.insert(2, 'date', [ret_df.iloc[i].time[0:10] for i in range(len(ret_df))])\n",
    "    ret_df.insert(3, 'hour', [ret_df.iloc[i].time[11:] for i in range(len(ret_df))])\n",
    "    ret_df.drop(['time'], axis=1)\n",
    "    return ret_df"
   ]
  },
  {
   "cell_type": "markdown",
   "metadata": {},
   "source": [
    "# Average of single days"
   ]
  },
  {
   "cell_type": "code",
   "execution_count": 8,
   "metadata": {
    "collapsed": true
   },
   "outputs": [],
   "source": [
    "def extract_sum(var_name, days):\n",
    "    array = [days[i][days[i].variable == var_name] for i in range(len(days))]\n",
    "    total = [np.sum(array[i].value) for i in range(len(array))]\n",
    "    return total\n",
    "\n",
    "\n",
    "def extract_user_data(user_id, raw_df):\n",
    "    split_df = pd.DataFrame(raw_df.time.str.split(' ', 1).tolist(), columns=['day', 'time'])\n",
    "    df = raw_df.drop('time', axis=1)\n",
    "    df.insert(2, 'day', split_df.day.tolist())\n",
    "    df.insert(3, 'time', split_df.time.tolist())\n",
    "    \n",
    "    unique_days = df.day.unique().tolist()\n",
    "    days = [df[df.day == unique_days[i]] for i in range(len(unique_days))]\n",
    "    \n",
    "    moods = [days[i][days[i].variable == 'mood'] for i in range(len(days))]\n",
    "    response = [np.mean(moods[i].value) for i in range(len(moods))]\n",
    "    \n",
    "    total_calls = extract_sum('call', days)\n",
    "    total_texts = extract_sum('sms', days)\n",
    "    total_screen_time = extract_sum('screen', days)\n",
    "    total_builtin = extract_sum('appCat.builtin', days)\n",
    "    total_communication = extract_sum('appCat.communication', days)\n",
    "    total_entertainment = extract_sum('appCat.entertainment', days)\n",
    "    total_finance = extract_sum('appCat.finance', days)\n",
    "    total_game = extract_sum('appCat.game', days)\n",
    "    total_office = extract_sum('appCat.office', days)\n",
    "    total_other = extract_sum('appCat.other', days)\n",
    "    total_social = extract_sum('appCat.social', days)\n",
    "    total_travel = extract_sum('appCat.travel', days)\n",
    "    total_unknown = extract_sum('appCat.unknown', days)\n",
    "    total_utilities = extract_sum('appCat.utilities', days)\n",
    "    total_weather = extract_sum('appCat.weather', days)\n",
    "    \n",
    "    y = np.array(response[1:])\n",
    "    x = np.array([total_calls[:-1], total_texts[:-1], total_screen_time[:-1], total_builtin[:-1]\n",
    "             , total_communication[:-1], total_entertainment[:-1], total_finance[:-1]\n",
    "             , total_game[:-1], total_office[:-1], total_social[:-1]\n",
    "             , total_travel[:-1], total_utilities[:-1], total_weather[:-1]]).T\n",
    "    \n",
    "    return x,y"
   ]
  },
  {
   "cell_type": "code",
   "execution_count": 10,
   "metadata": {
    "collapsed": false
   },
   "outputs": [
    {
     "name": "stdout",
     "output_type": "stream",
     "text": [
      "(2016, 13)\n",
      "(2016,)\n"
     ]
    }
   ],
   "source": [
    "full_df = pd.read_csv('./Data/dataset_mood_smartphone.csv')\n",
    "id_list = full_df.id.unique()\n",
    "train_ids = id_list[:18]\n",
    "\n",
    "x,y = extract_user_data(train_ids[1], full_df)\n",
    "\n",
    "for i in range(len(train_ids)):\n",
    "    x,y = extract_user_data(train_ids[i], full_df)\n",
    "    if i == 0:\n",
    "        X, Y = x, y\n",
    "    else:\n",
    "        X = np.concatenate((X, x))\n",
    "        Y = np.concatenate((Y, y))\n",
    "        \n",
    "np.savetxt('x.txt', X)\n",
    "np.savetxt('y.txt', Y)"
   ]
  },
  {
   "cell_type": "markdown",
   "metadata": {},
   "source": [
    "# Linear Regression"
   ]
  },
  {
   "cell_type": "markdown",
   "metadata": {},
   "source": [
    "## Change to R Kernel"
   ]
  },
  {
   "cell_type": "code",
   "execution_count": 1,
   "metadata": {
    "collapsed": false
   },
   "outputs": [
    {
     "data": {
      "text/plain": [
       "\n",
       "Call:\n",
       "lm(formula = response ~ (.)^2, data = data)\n",
       "\n",
       "Residuals:\n",
       "    Min      1Q  Median      3Q     Max \n",
       "-0.6522  0.0000  0.0000  0.0000  0.4464 \n",
       "\n",
       "Coefficients: (2 not defined because of singularities)\n",
       "                      Estimate Std. Error t value Pr(>|t|)    \n",
       "(Intercept)          6.301e+00  1.287e-01  48.955  < 2e-16 ***\n",
       "call                 5.743e-03  1.748e-03   3.286 0.001037 ** \n",
       "texts                3.837e-02  9.389e-03   4.086 4.59e-05 ***\n",
       "screen_time         -3.171e-03  9.297e-04  -3.411 0.000663 ***\n",
       "builtin              3.131e-03  8.813e-04   3.553 0.000392 ***\n",
       "com                  3.823e-03  1.080e-03   3.541 0.000409 ***\n",
       "ent                 -9.688e-03  4.500e-03  -2.153 0.031469 *  \n",
       "fin                  8.654e-01  2.670e-01   3.241 0.001214 ** \n",
       "game                 9.418e-02  4.627e-02   2.036 0.041950 *  \n",
       "office               4.775e-02  2.043e-02   2.338 0.019521 *  \n",
       "social               3.801e-03  1.402e-03   2.711 0.006775 ** \n",
       "travel               8.278e-02  4.034e-02   2.052 0.040325 *  \n",
       "util                 1.941e-01  6.996e-02   2.775 0.005587 ** \n",
       "weather              2.424e-01  1.582e-01   1.533 0.125553    \n",
       "call:texts          -3.667e-04  1.225e-04  -2.992 0.002811 ** \n",
       "call:screen_time     1.509e-04  5.237e-05   2.881 0.004009 ** \n",
       "call:builtin         3.882e-04  1.713e-04   2.266 0.023580 *  \n",
       "call:com            -4.004e-04  1.720e-04  -2.328 0.020051 *  \n",
       "call:ent             1.263e-03  5.947e-04   2.123 0.033903 *  \n",
       "call:fin            -3.874e-02  2.089e-02  -1.855 0.063829 .  \n",
       "call:game           -1.731e-04  3.504e-05  -4.940 8.59e-07 ***\n",
       "call:office          4.779e-03  2.233e-03   2.140 0.032467 *  \n",
       "call:social         -3.118e-04  9.643e-05  -3.233 0.001249 ** \n",
       "call:travel         -1.137e-02  5.216e-03  -2.179 0.029450 *  \n",
       "call:util           -1.173e-02  4.692e-03  -2.500 0.012514 *  \n",
       "call:weather        -4.872e-03  2.069e-03  -2.355 0.018648 *  \n",
       "texts:screen_time   -1.757e-04  4.317e-05  -4.070 4.93e-05 ***\n",
       "texts:builtin       -1.008e-03  4.376e-04  -2.303 0.021380 *  \n",
       "texts:com            7.691e-04  1.426e-04   5.392 7.99e-08 ***\n",
       "texts:ent           -3.577e-03  1.493e-03  -2.395 0.016729 *  \n",
       "texts:fin            8.922e-02  4.590e-02   1.944 0.052119 .  \n",
       "texts:game          -2.290e-02  1.074e-02  -2.133 0.033097 *  \n",
       "texts:office         1.187e-02  4.142e-03   2.867 0.004193 ** \n",
       "texts:social         1.252e-03  4.695e-04   2.666 0.007742 ** \n",
       "texts:travel         2.639e-02  1.254e-02   2.104 0.035503 *  \n",
       "texts:util           3.234e-03  2.315e-03   1.397 0.162513    \n",
       "texts:weather        1.092e-01  4.231e-02   2.581 0.009935 ** \n",
       "screen_time:builtin  4.787e-07  1.774e-07   2.699 0.007031 ** \n",
       "screen_time:com     -1.162e-07  1.692e-08  -6.868 9.19e-12 ***\n",
       "screen_time:ent      5.047e-07  2.893e-08  17.443  < 2e-16 ***\n",
       "screen_time:fin      8.314e-05  4.361e-05   1.907 0.056750 .  \n",
       "screen_time:game    -1.719e-05  6.899e-06  -2.491 0.012836 *  \n",
       "screen_time:office   6.130e-06  2.721e-06   2.253 0.024414 *  \n",
       "screen_time:social   8.894e-08  2.378e-08   3.740 0.000190 ***\n",
       "screen_time:travel   1.729e-06  1.474e-06   1.173 0.240951    \n",
       "screen_time:util    -2.626e-05  1.355e-05  -1.938 0.052791 .  \n",
       "screen_time:weather -1.673e-05  1.347e-05  -1.242 0.214373    \n",
       "builtin:com         -7.852e-07  3.159e-07  -2.485 0.013047 *  \n",
       "builtin:ent          1.976e-06  1.171e-06   1.688 0.091636 .  \n",
       "builtin:fin          4.457e-05  1.788e-05   2.493 0.012764 *  \n",
       "builtin:game        -1.127e-05  6.443e-06  -1.749 0.080530 .  \n",
       "builtin:office      -4.353e-06  2.280e-06  -1.910 0.056361 .  \n",
       "builtin:social      -1.128e-06  4.156e-07  -2.715 0.006706 ** \n",
       "builtin:travel      -2.958e-06  1.327e-06  -2.229 0.025974 *  \n",
       "builtin:util        -2.089e-05  9.268e-06  -2.254 0.024353 *  \n",
       "builtin:weather     -4.082e-05  1.887e-05  -2.163 0.030670 *  \n",
       "com:ent             -9.808e-07  1.946e-07  -5.040 5.16e-07 ***\n",
       "com:fin             -8.308e-05  4.013e-05  -2.070 0.038589 *  \n",
       "com:game             4.133e-05  1.720e-05   2.403 0.016380 *  \n",
       "com:office          -1.451e-05  5.279e-06  -2.750 0.006030 ** \n",
       "com:social          -1.054e-08  1.041e-07  -0.101 0.919358    \n",
       "com:travel           1.164e-05  2.815e-06   4.135 3.73e-05 ***\n",
       "com:util             3.053e-06  2.692e-06   1.134 0.256806    \n",
       "com:weather          1.153e-04  5.998e-05   1.923 0.054676 .  \n",
       "ent:fin             -1.038e-04  5.864e-05  -1.769 0.077035 .  \n",
       "ent:game             1.829e-05  8.159e-06   2.241 0.025146 *  \n",
       "ent:office          -2.943e-05  1.451e-05  -2.028 0.042758 *  \n",
       "ent:social          -1.845e-07  1.217e-07  -1.517 0.129511    \n",
       "ent:travel           6.857e-06  4.438e-06   1.545 0.122476    \n",
       "ent:util            -3.339e-05  1.181e-05  -2.828 0.004743 ** \n",
       "ent:weather          1.086e-04  5.207e-05   2.085 0.037196 *  \n",
       "fin:game            -4.929e-04  2.164e-04  -2.277 0.022901 *  \n",
       "fin:office          -1.284e-04  1.112e-04  -1.155 0.248349    \n",
       "fin:social          -1.004e-04  5.224e-05  -1.922 0.054740 .  \n",
       "fin:travel          -2.315e-03  1.053e-03  -2.198 0.028068 *  \n",
       "fin:util             3.716e-03  1.764e-03   2.107 0.035295 *  \n",
       "fin:weather         -1.833e-02  8.248e-03  -2.222 0.026387 *  \n",
       "game:office          7.841e-05  4.623e-05   1.696 0.090080 .  \n",
       "game:social          1.424e-05  5.188e-06   2.744 0.006129 ** \n",
       "game:travel          4.079e-06  3.556e-06   1.147 0.251454    \n",
       "game:util            3.321e-04  1.552e-04   2.140 0.032530 *  \n",
       "game:weather        -2.729e-03  1.153e-03  -2.366 0.018073 *  \n",
       "office:social       -6.160e-06  3.646e-06  -1.690 0.091309 .  \n",
       "office:travel       -4.760e-05  1.993e-05  -2.389 0.017009 *  \n",
       "office:util          1.209e-04  4.895e-05   2.469 0.013650 *  \n",
       "office:weather       1.012e-03  4.822e-04   2.099 0.035943 *  \n",
       "social:travel       -1.473e-05  6.125e-06  -2.406 0.016256 *  \n",
       "social:util          7.594e-05  3.939e-05   1.928 0.054049 .  \n",
       "social:weather      -1.420e-04  5.914e-05  -2.401 0.016440 *  \n",
       "travel:util          4.785e-04  2.193e-04   2.182 0.029220 *  \n",
       "travel:weather              NA         NA      NA       NA    \n",
       "util:weather                NA         NA      NA       NA    \n",
       "---\n",
       "Signif. codes:  0 '***' 0.001 '**' 0.01 '*' 0.05 '.' 0.1 ' ' 1\n",
       "\n",
       "Residual standard error: 0.1159 on 1656 degrees of freedom\n",
       "  (270 observations deleted due to missingness)\n",
       "Multiple R-squared:  0.8663,\tAdjusted R-squared:  0.8591 \n",
       "F-statistic: 120.5 on 89 and 1656 DF,  p-value: < 2.2e-16\n"
      ]
     },
     "metadata": {},
     "output_type": "display_data"
    }
   ],
   "source": [
    "data <- read.table('x.txt', col.names=c('call', 'texts', 'screen_time', 'builtin', 'com', 'ent', 'fin',\n",
    "                                        'game', 'office', 'social', 'travel', 'util', 'weather'))\n",
    "y <- read.table('y.txt', col.names = c('response'))\n",
    "data['response'] <- y[['response']]\n",
    "\n",
    "model <- lm(response ~ (.)^2, data=data)\n",
    "summary(model)"
   ]
  },
  {
   "cell_type": "code",
   "execution_count": null,
   "metadata": {
    "collapsed": true
   },
   "outputs": [],
   "source": []
  }
 ],
 "metadata": {
  "kernelspec": {
   "display_name": "Python 3",
   "language": "python",
   "name": "python3"
  },
  "language_info": {
   "codemirror_mode": {
    "name": "ipython",
    "version": 3
   },
   "file_extension": ".py",
   "mimetype": "text/x-python",
   "name": "python",
   "nbconvert_exporter": "python",
   "pygments_lexer": "ipython3",
   "version": "3.6.0"
  }
 },
 "nbformat": 4,
 "nbformat_minor": 1
}
