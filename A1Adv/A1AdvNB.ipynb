{
 "cells": [
  {
   "cell_type": "code",
   "execution_count": 2,
   "metadata": {
    "collapsed": true
   },
   "outputs": [],
   "source": [
    "import numpy as np\n",
    "import pandas as pd\n",
    "import matplotlib.pyplot as plt\n",
    "import datetime"
   ]
  },
  {
   "cell_type": "markdown",
   "metadata": {},
   "source": [
    "# Initial exploration"
   ]
  },
  {
   "cell_type": "code",
   "execution_count": 3,
   "metadata": {
    "collapsed": false
   },
   "outputs": [
    {
     "data": {
      "text/html": [
       "<div>\n",
       "<style>\n",
       "    .dataframe thead tr:only-child th {\n",
       "        text-align: right;\n",
       "    }\n",
       "\n",
       "    .dataframe thead th {\n",
       "        text-align: left;\n",
       "    }\n",
       "\n",
       "    .dataframe tbody tr th {\n",
       "        vertical-align: top;\n",
       "    }\n",
       "</style>\n",
       "<table border=\"1\" class=\"dataframe\">\n",
       "  <thead>\n",
       "    <tr style=\"text-align: right;\">\n",
       "      <th></th>\n",
       "      <th>Unnamed: 0</th>\n",
       "      <th>id</th>\n",
       "      <th>time</th>\n",
       "      <th>variable</th>\n",
       "      <th>value</th>\n",
       "    </tr>\n",
       "  </thead>\n",
       "  <tbody>\n",
       "    <tr>\n",
       "      <th>5641</th>\n",
       "      <td>5642</td>\n",
       "      <td>AS14.01</td>\n",
       "      <td>2014-02-26 13:00:00.000</td>\n",
       "      <td>circumplex.arousal</td>\n",
       "      <td>-1.0</td>\n",
       "    </tr>\n",
       "    <tr>\n",
       "      <th>5642</th>\n",
       "      <td>5643</td>\n",
       "      <td>AS14.01</td>\n",
       "      <td>2014-02-26 15:00:00.000</td>\n",
       "      <td>circumplex.arousal</td>\n",
       "      <td>-1.0</td>\n",
       "    </tr>\n",
       "    <tr>\n",
       "      <th>5643</th>\n",
       "      <td>5644</td>\n",
       "      <td>AS14.01</td>\n",
       "      <td>2014-02-26 18:00:00.000</td>\n",
       "      <td>circumplex.arousal</td>\n",
       "      <td>0.0</td>\n",
       "    </tr>\n",
       "    <tr>\n",
       "      <th>5644</th>\n",
       "      <td>5645</td>\n",
       "      <td>AS14.01</td>\n",
       "      <td>2014-02-26 21:00:00.000</td>\n",
       "      <td>circumplex.arousal</td>\n",
       "      <td>1.0</td>\n",
       "    </tr>\n",
       "    <tr>\n",
       "      <th>5645</th>\n",
       "      <td>5646</td>\n",
       "      <td>AS14.01</td>\n",
       "      <td>2014-02-27 09:00:00.000</td>\n",
       "      <td>circumplex.arousal</td>\n",
       "      <td>-2.0</td>\n",
       "    </tr>\n",
       "  </tbody>\n",
       "</table>\n",
       "</div>"
      ],
      "text/plain": [
       "      Unnamed: 0       id                     time            variable  value\n",
       "5641        5642  AS14.01  2014-02-26 13:00:00.000  circumplex.arousal   -1.0\n",
       "5642        5643  AS14.01  2014-02-26 15:00:00.000  circumplex.arousal   -1.0\n",
       "5643        5644  AS14.01  2014-02-26 18:00:00.000  circumplex.arousal    0.0\n",
       "5644        5645  AS14.01  2014-02-26 21:00:00.000  circumplex.arousal    1.0\n",
       "5645        5646  AS14.01  2014-02-27 09:00:00.000  circumplex.arousal   -2.0"
      ]
     },
     "execution_count": 3,
     "metadata": {},
     "output_type": "execute_result"
    }
   ],
   "source": [
    "df = pd.read_csv(\"./Data/dataset_mood_smartphone.csv\")\n",
    "df = df.dropna(axis=0, how='any')\n",
    "df[df.variable == 'circumplex.arousal'].head()"
   ]
  },
  {
   "cell_type": "code",
   "execution_count": 164,
   "metadata": {
    "collapsed": true
   },
   "outputs": [],
   "source": [
    "variables = np.unique(df.variable.values)\n",
    "p = variables.shape[0]\n",
    "\n",
    "time_points = np.unique(df.time.values)\n",
    "T = time_points.shape[0]\n",
    "\n",
    "n_response = np.sum([df.variable.values == 'mood'])\n",
    "\n",
    "ids = np.unique(df.id.values)\n",
    "n_ids = ids.shape[0]\n",
    "\n",
    "id_df_list = [df[df.id == ids[i]] for i in range(n_ids)]\n",
    "\n",
    "mood_timestamps = df.time[df.variable == 'mood']"
   ]
  },
  {
   "cell_type": "code",
   "execution_count": 165,
   "metadata": {
    "collapsed": false
   },
   "outputs": [
    {
     "name": "stdout",
     "output_type": "stream",
     "text": [
      "19 336907 5641 27\n",
      "['2014-02-26 13:00:00.000' '2014-02-26 15:00:00.000'\n",
      " '2014-02-26 18:00:00.000' ..., '2014-05-30 19:00:00.000'\n",
      " '2014-05-30 20:00:00.000' '2014-05-31 12:00:00.000']\n",
      "[234593 234594 234595 ..., 308866 308867 308868]\n",
      "['activity', 'appCat.builtin', 'appCat.communication', 'appCat.entertainment', 'appCat.finance', 'appCat.game', 'appCat.office', 'appCat.other', 'appCat.social', 'appCat.travel', 'appCat.unknown', 'appCat.utilities', 'appCat.weather', 'call', 'circumplex.arousal', 'circumplex.valence', 'screen', 'sms']\n",
      "['appCat.builtin' 'appCat.communication' 'appCat.entertainment'\n",
      " 'appCat.finance' 'appCat.game' 'appCat.office' 'appCat.other'\n",
      " 'appCat.social' 'appCat.travel' 'appCat.unknown' 'appCat.utilities'\n",
      " 'appCat.weather' 'call' 'screen' 'sms']\n"
     ]
    }
   ],
   "source": [
    "print(p, T, n_response, n_ids)\n",
    "\n",
    "timestamp = mood_timestamps[125]\n",
    "t1 = mood_timestamps[1]\n",
    "t2 = mood_timestamps[2]\n",
    "\n",
    "response_times = df.time[df.variable == 'mood'].values\n",
    "print(response_times)\n",
    "\n",
    "mood_times = df.time[df.variable == 'mood'].values\n",
    "mood_measurements = df.value[df.variable == 'mood'].values\n",
    "measurement_types = np.unique(df.variable[df.variable != 'mood'].values).tolist()\n",
    "measurement_df = df[df.variable != 'mood']\n",
    "measurement_times = measurement_df.time.values\n",
    "X = np.zeros((len(measurement_types), mood_measurements.shape[0]))\n",
    "i = 0\n",
    "\n",
    "print(np.nonzero(np.isin(df.variable.values, measurement_types[2]))[0])\n",
    "print(measurement_types)\n",
    "\n",
    "mean_types = np.array(['activity', 'circumplex.valence', 'circumplex.arousal'])\n",
    "sum_types = np.array(list(filter(lambda x: x not in mean_types, measurement_types)))\n",
    "\n",
    "print(sum_types)"
   ]
  },
  {
   "cell_type": "code",
   "execution_count": 166,
   "metadata": {
    "collapsed": true
   },
   "outputs": [],
   "source": [
    "def time_earlier(t1, t2):\n",
    "    year1 = int(t1[0:4])\n",
    "    year2 = int(t2[0:4])\n",
    "    if year1 == year2:\n",
    "        month1 = int(t1[5:7])\n",
    "        month2 = int(t2[5:7])\n",
    "        if month1 == month2:\n",
    "            day1 = int(t1[8:10])\n",
    "            day2 = int(t2[8:10])\n",
    "            if day1 == day2:\n",
    "                hour1 = int(t1[11:13])\n",
    "                hour2 = int(t2[11:13])\n",
    "                if hour1 == hour2:\n",
    "                    min1 = int(t1[14:16])\n",
    "                    min2 = int(t2[14:16])\n",
    "                    if min1 == min2:\n",
    "                        sec1 = int(t1[17:19])\n",
    "                        sec2 = int(t2[17:19])\n",
    "                        if sec1 == sec2:\n",
    "                            subsec1 = int(t1[20:23])\n",
    "                            subsec2 = int(t2[20:23])\n",
    "                            return subsec1 <= subsec2\n",
    "                        else:\n",
    "                            return sec1 < sec2\n",
    "                    else:\n",
    "                        return min1 < min2\n",
    "\n",
    "                else:\n",
    "                    return hour1 < hour2\n",
    "\n",
    "            else:\n",
    "                return day1 < day2\n",
    "        else:\n",
    "            return month1 < month2\n",
    "    else:\n",
    "        return year1 < year2"
   ]
  },
  {
   "cell_type": "code",
   "execution_count": 167,
   "metadata": {
    "collapsed": false
   },
   "outputs": [
    {
     "data": {
      "text/plain": [
       "-7200.0"
      ]
     },
     "execution_count": 167,
     "metadata": {},
     "output_type": "execute_result"
    }
   ],
   "source": [
    "def time_difference(t1, t2):\n",
    "    year1 = int(t1[0:4])\n",
    "    year2 = int(t2[0:4])\n",
    "    month1 = int(t1[5:7])\n",
    "    month2 = int(t2[5:7])\n",
    "    day1 = int(t1[8:10])\n",
    "    day2 = int(t2[8:10])\n",
    "    hour1 = int(t1[11:13])\n",
    "    hour2 = int(t2[11:13])\n",
    "    min1 = int(t1[14:16])\n",
    "    min2 = int(t2[14:16])\n",
    "    sec1 = int(t1[17:19])\n",
    "    sec2 = int(t2[17:19])\n",
    "    subsec1 = int(t1[20:23])\n",
    "    subsec2 = int(t2[20:23])\n",
    "    datetime1 = datetime.datetime(year1, month1, day1, hour1, min1, sec1, subsec1*1000)\n",
    "    datetime2 = datetime.datetime(year2, month2, day2, hour2, min2, sec2, subsec2*1000)\n",
    "    return (datetime2 - datetime1).total_seconds()\n",
    "\n",
    "time_difference(mood_timestamps[1], mood_timestamps[0])"
   ]
  },
  {
   "cell_type": "markdown",
   "metadata": {},
   "source": [
    "# Sum between recorded respones"
   ]
  },
  {
   "cell_type": "code",
   "execution_count": 171,
   "metadata": {
    "collapsed": false
   },
   "outputs": [],
   "source": [
    "def create_time_series(df, umt):\n",
    "    mood_times = df.time[df.variable == 'mood'].values\n",
    "    mood_values = df.value[df.variable == 'mood'].values\n",
    "    n = mood_values.shape[0]\n",
    "\n",
    "    #unique_mt = np.unique(df.variable[df.variable != 'mood'].values).tolist()\n",
    "    unique_mt = umt\n",
    "    measurement_types = df.variable.values[df.variable != 'mood']\n",
    "    measurement_values = df.value.values[df.variable != 'mood']\n",
    "    measurement_times = df.time.values[df.variable != 'mood']\n",
    "    l = measurement_times.shape[0]\n",
    "\n",
    "    mean_types = np.array(['activity', 'circumplex.valence', 'circumplex.arousal'])\n",
    "    sum_types = np.array(list(filter(lambda x: x not in mean_types, unique_mt)))\n",
    "\n",
    "    X = np.zeros((len(unique_mt), n))\n",
    "    indices_to_drop = np.array([])\n",
    "    j = 0\n",
    "    for m_time in mood_times:\n",
    "        earlier_time_indices = np.array([k for k in range(l)\n",
    "                                         if time_earlier(measurement_times[k], m_time)\n",
    "                                         and k not in indices_to_drop])\n",
    "        if len(earlier_time_indices) == 0:\n",
    "            continue\n",
    "        earlier_types = measurement_types[earlier_time_indices]\n",
    "        i = 0\n",
    "        for m_type in unique_mt:\n",
    "            earlier_measurement_indices = np.nonzero(np.isin(earlier_types, m_type))[0]\n",
    "            if len(earlier_measurement_indices) != 0:\n",
    "                measurement_indices = earlier_time_indices[earlier_measurement_indices]\n",
    "                if m_type in sum_types:\n",
    "                    # Sum all measurement types that should be added up\n",
    "                    X[i, j] = np.sum(measurement_values[measurement_indices])\n",
    "                elif m_type in mean_types:\n",
    "                    X[i, j] = np.mean(measurement_values[measurement_indices])\n",
    "                indices_to_drop = np.concatenate((indices_to_drop, measurement_indices))\n",
    "            i += 1\n",
    "        j += 1\n",
    "\n",
    "    y = mood_values\n",
    "\n",
    "    return X, y"
   ]
  },
  {
   "cell_type": "code",
   "execution_count": 172,
   "metadata": {
    "collapsed": false
   },
   "outputs": [],
   "source": [
    "df = pd.read_csv(\"./Data/dataset_mood_smartphone.csv\")\n",
    "df = df.dropna(axis=0, how='any')\n",
    "ids = np.unique(df.id.values)\n",
    "user_df = df[df.id == ids[3]]\n",
    "X, y = create_time_series(user_df, measurement_types)"
   ]
  },
  {
   "cell_type": "code",
   "execution_count": 174,
   "metadata": {
    "collapsed": false
   },
   "outputs": [
    {
     "data": {
      "image/png": "[encoded data removed]",
      "text/plain": [
       "<matplotlib.figure.Figure at 0x1a5da121ac8>"
      ]
     },
     "metadata": {},
     "output_type": "display_data"
    },
    {
     "name": "stdout",
     "output_type": "stream",
     "text": [
      "40.0\n",
      "['activity', 'appCat.builtin', 'appCat.communication', 'appCat.entertainment', 'appCat.finance', 'appCat.game', 'appCat.office', 'appCat.other', 'appCat.social', 'appCat.travel', 'appCat.unknown', 'appCat.utilities', 'appCat.weather', 'call', 'circumplex.arousal', 'circumplex.valence', 'screen', 'sms']\n",
      "40.0\n"
     ]
    }
   ],
   "source": [
    "plt.plot(np.arange(len(y)), y)\n",
    "plt.show()\n",
    "\n",
    "print(np.sum(X[17,:]))\n",
    "print(measurement_types)\n",
    "print(np.sum(user_df.value.values[user_df.variable == 'sms']))"
   ]
  },
  {
   "cell_type": "code",
   "execution_count": 178,
   "metadata": {
    "collapsed": false
   },
   "outputs": [],
   "source": [
    "def shift_and_add_time(df, X, y):\n",
    "    timestamps = df.time.values[df.variable == 'mood']\n",
    "    t_delta = np.array([time_difference(timestamps[i], timestamps[i+1]) for i in range(y.shape[0] - 1)])\n",
    "    sX = X[:, :-1]\n",
    "    sX = np.vstack((sX, t_delta))\n",
    "    sy = y[1:]\n",
    "    \n",
    "    return sX, sy"
   ]
  },
  {
   "cell_type": "code",
   "execution_count": 179,
   "metadata": {
    "collapsed": false
   },
   "outputs": [
    {
     "name": "stdout",
     "output_type": "stream",
     "text": [
      "(19, 240)\n"
     ]
    }
   ],
   "source": [
    "sX, sy = shift_and_add_time(user_df, X, y)\n",
    "print(sX.shape)"
   ]
  },
  {
   "cell_type": "code",
   "execution_count": 159,
   "metadata": {
    "collapsed": false
   },
   "outputs": [],
   "source": [
    "cols = np.concatenate((measurement_types, np.array(['time', 'mood'])))\n",
    "data = np.vstack((sX, sy)).T\n",
    "proc_df = pd.DataFrame(data=data, columns=cols)\n",
    "proc_df.head()\n",
    "proc_df.to_csv('processed_data.csv', index=False)"
   ]
  },
  {
   "cell_type": "markdown",
   "metadata": {},
   "source": [
    "# Recurrent Neural Network"
   ]
  },
  {
   "cell_type": "code",
   "execution_count": null,
   "metadata": {
    "collapsed": true
   },
   "outputs": [],
   "source": []
  },
  {
   "cell_type": "markdown",
   "metadata": {},
   "source": [
    "# Additional code"
   ]
  },
  {
   "cell_type": "code",
   "execution_count": null,
   "metadata": {
    "collapsed": true
   },
   "outputs": [],
   "source": [
    "def df_timesplit(df):\n",
    "    ret_df = df\n",
    "    ret_df.insert(2, 'date', [ret_df.iloc[i].time[0:10] for i in range(len(ret_df))])\n",
    "    ret_df.insert(3, 'hour', [ret_df.iloc[i].time[11:] for i in range(len(ret_df))])\n",
    "    ret_df.drop(['time'], axis=1)\n",
    "    return ret_df"
   ]
  },
  {
   "cell_type": "markdown",
   "metadata": {},
   "source": [
    "# Average of single days"
   ]
  },
  {
   "cell_type": "code",
   "execution_count": 8,
   "metadata": {
    "collapsed": true
   },
   "outputs": [],
   "source": [
    "def extract_sum(var_name, days):\n",
    "    array = [days[i][days[i].variable == var_name] for i in range(len(days))]\n",
    "    total = [np.sum(array[i].value) for i in range(len(array))]\n",
    "    return total\n",
    "\n",
    "\n",
    "def extract_user_data(user_id, raw_df):\n",
    "    split_df = pd.DataFrame(raw_df.time.str.split(' ', 1).tolist(), columns=['day', 'time'])\n",
    "    df = raw_df.drop('time', axis=1)\n",
    "    df.insert(2, 'day', split_df.day.tolist())\n",
    "    df.insert(3, 'time', split_df.time.tolist())\n",
    "    \n",
    "    unique_days = df.day.unique().tolist()\n",
    "    days = [df[df.day == unique_days[i]] for i in range(len(unique_days))]\n",
    "    \n",
    "    moods = [days[i][days[i].variable == 'mood'] for i in range(len(days))]\n",
    "    response = [np.mean(moods[i].value) for i in range(len(moods))]\n",
    "    \n",
    "    total_calls = extract_sum('call', days)\n",
    "    total_texts = extract_sum('sms', days)\n",
    "    total_screen_time = extract_sum('screen', days)\n",
    "    total_builtin = extract_sum('appCat.builtin', days)\n",
    "    total_communication = extract_sum('appCat.communication', days)\n",
    "    total_entertainment = extract_sum('appCat.entertainment', days)\n",
    "    total_finance = extract_sum('appCat.finance', days)\n",
    "    total_game = extract_sum('appCat.game', days)\n",
    "    total_office = extract_sum('appCat.office', days)\n",
    "    total_other = extract_sum('appCat.other', days)\n",
    "    total_social = extract_sum('appCat.social', days)\n",
    "    total_travel = extract_sum('appCat.travel', days)\n",
    "    total_unknown = extract_sum('appCat.unknown', days)\n",
    "    total_utilities = extract_sum('appCat.utilities', days)\n",
    "    total_weather = extract_sum('appCat.weather', days)\n",
    "    \n",
    "    y = np.array(response[1:])\n",
    "    x = np.array([total_calls[:-1], total_texts[:-1], total_screen_time[:-1], total_builtin[:-1]\n",
    "             , total_communication[:-1], total_entertainment[:-1], total_finance[:-1]\n",
    "             , total_game[:-1], total_office[:-1], total_social[:-1]\n",
    "             , total_travel[:-1], total_utilities[:-1], total_weather[:-1]]).T\n",
    "    \n",
    "    return x,y"
   ]
  },
  {
   "cell_type": "code",
   "execution_count": 10,
   "metadata": {
    "collapsed": false
   },
   "outputs": [
    {
     "name": "stdout",
     "output_type": "stream",
     "text": [
      "(2016, 13)\n",
      "(2016,)\n"
     ]
    }
   ],
   "source": [
    "full_df = pd.read_csv('./Data/dataset_mood_smartphone.csv')\n",
    "id_list = full_df.id.unique()\n",
    "train_ids = id_list[:18]\n",
    "\n",
    "x,y = extract_user_data(train_ids[1], full_df)\n",
    "\n",
    "for i in range(len(train_ids)):\n",
    "    x,y = extract_user_data(train_ids[i], full_df)\n",
    "    if i == 0:\n",
    "        X, Y = x, y\n",
    "    else:\n",
    "        X = np.concatenate((X, x))\n",
    "        Y = np.concatenate((Y, y))\n",
    "        \n",
    "np.savetxt('x.txt', X)\n",
    "np.savetxt('y.txt', Y)"
   ]
  },
  {
   "cell_type": "code",
   "execution_count": null,
   "metadata": {
    "collapsed": true
   },
   "outputs": [],
   "source": []
  }
 ],
 "metadata": {
  "kernelspec": {
   "display_name": "Python 3",
   "language": "python",
   "name": "python3"
  },
  "language_info": {
   "codemirror_mode": {
    "name": "ipython",
    "version": 3
   },
   "file_extension": ".py",
   "mimetype": "text/x-python",
   "name": "python",
   "nbconvert_exporter": "python",
   "pygments_lexer": "ipython3",
   "version": "3.6.0"
  }
 },
 "nbformat": 4,
 "nbformat_minor": 1
}
