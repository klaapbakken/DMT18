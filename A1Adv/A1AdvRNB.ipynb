{
 "cells": [
  {
   "cell_type": "code",
   "execution_count": 16,
   "metadata": {
    "collapsed": false
   },
   "outputs": [],
   "source": [
    "data <- read.csv('processed_data.csv')"
   ]
  },
  {
   "cell_type": "code",
   "execution_count": null,
   "metadata": {
    "collapsed": false
   },
   "outputs": [],
   "source": []
  },
  {
   "cell_type": "code",
   "execution_count": 26,
   "metadata": {
    "collapsed": false
   },
   "outputs": [],
   "source": [
    "linreg <- lm(mood ~ (.), data=data)"
   ]
  },
  {
   "cell_type": "code",
   "execution_count": 27,
   "metadata": {
    "collapsed": false
   },
   "outputs": [
    {
     "data": {
      "text/plain": [
       "\n",
       "Call:\n",
       "lm(formula = mood ~ (.), data = data)\n",
       "\n",
       "Residuals:\n",
       "    Min      1Q  Median      3Q     Max \n",
       "-3.3108 -0.3692  0.0593  0.6446  1.6402 \n",
       "\n",
       "Coefficients:\n",
       "                       Estimate Std. Error t value Pr(>|t|)    \n",
       "(Intercept)           6.896e+00  1.318e-01  52.311  < 2e-16 ***\n",
       "activity             -5.599e-02  5.118e-01  -0.109  0.91299    \n",
       "appCat.builtin        2.621e-05  4.463e-05   0.587  0.55770    \n",
       "appCat.communication -1.550e-04  7.413e-05  -2.091  0.03775 *  \n",
       "appCat.entertainment  8.977e-05  1.511e-04   0.594  0.55315    \n",
       "appCat.finance        7.816e-04  4.907e-04   1.593  0.11280    \n",
       "appCat.game          -8.522e-05  1.729e-03  -0.049  0.96074    \n",
       "appCat.office        -6.925e-03  3.761e-03  -1.841  0.06707 .  \n",
       "appCat.other          3.588e-04  7.400e-04   0.485  0.62834    \n",
       "appCat.social        -3.659e-05  1.246e-04  -0.294  0.76938    \n",
       "appCat.travel        -1.327e-03  4.866e-04  -2.727  0.00696 ** \n",
       "appCat.unknown       -5.157e-03  3.245e-03  -1.589  0.11363    \n",
       "appCat.utilities     -1.720e-04  6.809e-04  -0.253  0.80084    \n",
       "appCat.weather       -2.832e-02  2.601e-02  -1.089  0.27750    \n",
       "call                 -1.862e-02  3.505e-02  -0.531  0.59580    \n",
       "circumplex.arousal   -3.584e-03  6.486e-02  -0.055  0.95599    \n",
       "circumplex.valence    4.731e-01  1.027e-01   4.607 7.23e-06 ***\n",
       "screen                4.598e-05  4.737e-05   0.971  0.33291    \n",
       "sms                   6.773e-03  1.055e-01   0.064  0.94889    \n",
       "time                 -7.759e-07  4.262e-07  -1.821  0.07014 .  \n",
       "---\n",
       "Signif. codes:  0 '***' 0.001 '**' 0.01 '*' 0.05 '.' 0.1 ' ' 1\n",
       "\n",
       "Residual standard error: 0.7842 on 201 degrees of freedom\n",
       "Multiple R-squared:  0.2118,\tAdjusted R-squared:  0.1373 \n",
       "F-statistic: 2.843 on 19 and 201 DF,  p-value: 0.0001395\n"
      ]
     },
     "metadata": {},
     "output_type": "display_data"
    }
   ],
   "source": [
    "summary(linreg)"
   ]
  },
  {
   "cell_type": "code",
   "execution_count": null,
   "metadata": {
    "collapsed": true
   },
   "outputs": [],
   "source": []
  }
 ],
 "metadata": {
  "kernelspec": {
   "display_name": "R",
   "language": "R",
   "name": "ir"
  },
  "language_info": {
   "codemirror_mode": "r",
   "file_extension": ".r",
   "mimetype": "text/x-r-source",
   "name": "R",
   "pygments_lexer": "r",
   "version": "3.3.2"
  }
 },
 "nbformat": 4,
 "nbformat_minor": 2
}
